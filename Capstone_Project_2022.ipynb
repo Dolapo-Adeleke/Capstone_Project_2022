{
 "cells": [
  {
   "cell_type": "code",
   "execution_count": 1,
   "metadata": {},
   "outputs": [],
   "source": [
    "import pandas as pd\n",
    "import matplotlib.pyplot as plt\n",
    "import datetime as dt\n",
    "import seaborn as sns\n",
    "import numpy as np"
   ]
  },
  {
   "cell_type": "code",
   "execution_count": 2,
   "metadata": {},
   "outputs": [],
   "source": [
    "jan = pd.read_csv('file:///C:DATASETS/jan22-tripdata.csv')\n",
    "feb =  pd.read_csv('file:///C:DATASETS/feb22-tripdata.csv')\n",
    "march = pd.read_csv('file:///C:DATASETS/march22-tripdata.csv')\n",
    "april = pd.read_csv('file:///C:DATASETS/april22-tripdata.csv')\n",
    "may = pd.read_csv('file:///C:DATASETS/may22-tripdata.csv')\n",
    "june = pd.read_csv('file:///C:DATASETS/june22-tripdata.csv')\n",
    "july = pd.read_csv('file:///C:DATASETS/july22-tripdata.csv')\n",
    "aug = pd.read_csv('file:///C:DATASETS/aug21-tripdata.csv')\n",
    "sep = pd.read_csv('file:///C:DATASETS/sep21-tripdata.csv')\n",
    "octo = pd.read_csv('file:///C:DATASETS/oct21-tripdata.csv')\n",
    "nov = pd.read_csv('file:///C:DATASETS/nov21-tripdata.csv')\n",
    "dec = pd.read_csv('file:///C:DATASETS/dec21-tripdata.csv')"
   ]
  },
  {
   "cell_type": "code",
   "execution_count": 3,
   "metadata": {},
   "outputs": [],
   "source": [
    "#create a list of the months above\n",
    "list_of_months =[jan, feb, march, april, may, june, july, aug, sep, octo, nov, dec]\n",
    "#combine them vertically into a dataframe\n",
    "df = pd.concat(list_of_months)"
   ]
  },
  {
   "cell_type": "code",
   "execution_count": 4,
   "metadata": {},
   "outputs": [
    {
     "name": "stdout",
     "output_type": "stream",
     "text": [
      "<class 'pandas.core.frame.DataFrame'>\n",
      "Int64Index: 5901463 entries, 0 to 247539\n",
      "Data columns (total 13 columns):\n",
      " #   Column              Dtype  \n",
      "---  ------              -----  \n",
      " 0   ride_id             object \n",
      " 1   rideable_type       object \n",
      " 2   started_at          object \n",
      " 3   ended_at            object \n",
      " 4   start_station_name  object \n",
      " 5   start_station_id    object \n",
      " 6   end_station_name    object \n",
      " 7   end_station_id      object \n",
      " 8   start_lat           float64\n",
      " 9   start_lng           float64\n",
      " 10  end_lat             float64\n",
      " 11  end_lng             float64\n",
      " 12  member_casual       object \n",
      "dtypes: float64(4), object(9)\n",
      "memory usage: 630.3+ MB\n"
     ]
    }
   ],
   "source": [
    "df.info()"
   ]
  },
  {
   "cell_type": "code",
   "execution_count": 5,
   "metadata": {},
   "outputs": [
    {
     "data": {
      "text/html": [
       "<div>\n",
       "<style scoped>\n",
       "    .dataframe tbody tr th:only-of-type {\n",
       "        vertical-align: middle;\n",
       "    }\n",
       "\n",
       "    .dataframe tbody tr th {\n",
       "        vertical-align: top;\n",
       "    }\n",
       "\n",
       "    .dataframe thead th {\n",
       "        text-align: right;\n",
       "    }\n",
       "</style>\n",
       "<table border=\"1\" class=\"dataframe\">\n",
       "  <thead>\n",
       "    <tr style=\"text-align: right;\">\n",
       "      <th></th>\n",
       "      <th>ride_id</th>\n",
       "      <th>rideable_type</th>\n",
       "      <th>started_at</th>\n",
       "      <th>ended_at</th>\n",
       "      <th>start_station_name</th>\n",
       "      <th>start_station_id</th>\n",
       "      <th>end_station_name</th>\n",
       "      <th>end_station_id</th>\n",
       "      <th>start_lat</th>\n",
       "      <th>start_lng</th>\n",
       "      <th>end_lat</th>\n",
       "      <th>end_lng</th>\n",
       "      <th>member_casual</th>\n",
       "    </tr>\n",
       "  </thead>\n",
       "  <tbody>\n",
       "    <tr>\n",
       "      <th>0</th>\n",
       "      <td>C2F7DD78E82EC875</td>\n",
       "      <td>electric_bike</td>\n",
       "      <td>2022-01-13 11:59:47</td>\n",
       "      <td>2022-01-13 12:02:44</td>\n",
       "      <td>Glenwood Ave &amp; Touhy Ave</td>\n",
       "      <td>525</td>\n",
       "      <td>Clark St &amp; Touhy Ave</td>\n",
       "      <td>RP-007</td>\n",
       "      <td>42.012800</td>\n",
       "      <td>-87.665906</td>\n",
       "      <td>42.012560</td>\n",
       "      <td>-87.674367</td>\n",
       "      <td>casual</td>\n",
       "    </tr>\n",
       "    <tr>\n",
       "      <th>1</th>\n",
       "      <td>A6CF8980A652D272</td>\n",
       "      <td>electric_bike</td>\n",
       "      <td>2022-01-10 08:41:56</td>\n",
       "      <td>2022-01-10 08:46:17</td>\n",
       "      <td>Glenwood Ave &amp; Touhy Ave</td>\n",
       "      <td>525</td>\n",
       "      <td>Clark St &amp; Touhy Ave</td>\n",
       "      <td>RP-007</td>\n",
       "      <td>42.012763</td>\n",
       "      <td>-87.665968</td>\n",
       "      <td>42.012560</td>\n",
       "      <td>-87.674367</td>\n",
       "      <td>casual</td>\n",
       "    </tr>\n",
       "    <tr>\n",
       "      <th>2</th>\n",
       "      <td>BD0F91DFF741C66D</td>\n",
       "      <td>classic_bike</td>\n",
       "      <td>2022-01-25 04:53:40</td>\n",
       "      <td>2022-01-25 04:58:01</td>\n",
       "      <td>Sheffield Ave &amp; Fullerton Ave</td>\n",
       "      <td>TA1306000016</td>\n",
       "      <td>Greenview Ave &amp; Fullerton Ave</td>\n",
       "      <td>TA1307000001</td>\n",
       "      <td>41.925602</td>\n",
       "      <td>-87.653708</td>\n",
       "      <td>41.925330</td>\n",
       "      <td>-87.665800</td>\n",
       "      <td>member</td>\n",
       "    </tr>\n",
       "    <tr>\n",
       "      <th>3</th>\n",
       "      <td>CBB80ED419105406</td>\n",
       "      <td>classic_bike</td>\n",
       "      <td>2022-01-04 00:18:04</td>\n",
       "      <td>2022-01-04 00:33:00</td>\n",
       "      <td>Clark St &amp; Bryn Mawr Ave</td>\n",
       "      <td>KA1504000151</td>\n",
       "      <td>Paulina St &amp; Montrose Ave</td>\n",
       "      <td>TA1309000021</td>\n",
       "      <td>41.983593</td>\n",
       "      <td>-87.669154</td>\n",
       "      <td>41.961507</td>\n",
       "      <td>-87.671387</td>\n",
       "      <td>casual</td>\n",
       "    </tr>\n",
       "    <tr>\n",
       "      <th>4</th>\n",
       "      <td>DDC963BFDDA51EEA</td>\n",
       "      <td>classic_bike</td>\n",
       "      <td>2022-01-20 01:31:10</td>\n",
       "      <td>2022-01-20 01:37:12</td>\n",
       "      <td>Michigan Ave &amp; Jackson Blvd</td>\n",
       "      <td>TA1309000002</td>\n",
       "      <td>State St &amp; Randolph St</td>\n",
       "      <td>TA1305000029</td>\n",
       "      <td>41.877850</td>\n",
       "      <td>-87.624080</td>\n",
       "      <td>41.884621</td>\n",
       "      <td>-87.627834</td>\n",
       "      <td>member</td>\n",
       "    </tr>\n",
       "  </tbody>\n",
       "</table>\n",
       "</div>"
      ],
      "text/plain": [
       "            ride_id  rideable_type           started_at             ended_at  \\\n",
       "0  C2F7DD78E82EC875  electric_bike  2022-01-13 11:59:47  2022-01-13 12:02:44   \n",
       "1  A6CF8980A652D272  electric_bike  2022-01-10 08:41:56  2022-01-10 08:46:17   \n",
       "2  BD0F91DFF741C66D   classic_bike  2022-01-25 04:53:40  2022-01-25 04:58:01   \n",
       "3  CBB80ED419105406   classic_bike  2022-01-04 00:18:04  2022-01-04 00:33:00   \n",
       "4  DDC963BFDDA51EEA   classic_bike  2022-01-20 01:31:10  2022-01-20 01:37:12   \n",
       "\n",
       "              start_station_name start_station_id  \\\n",
       "0       Glenwood Ave & Touhy Ave              525   \n",
       "1       Glenwood Ave & Touhy Ave              525   \n",
       "2  Sheffield Ave & Fullerton Ave     TA1306000016   \n",
       "3       Clark St & Bryn Mawr Ave     KA1504000151   \n",
       "4    Michigan Ave & Jackson Blvd     TA1309000002   \n",
       "\n",
       "                end_station_name end_station_id  start_lat  start_lng  \\\n",
       "0           Clark St & Touhy Ave         RP-007  42.012800 -87.665906   \n",
       "1           Clark St & Touhy Ave         RP-007  42.012763 -87.665968   \n",
       "2  Greenview Ave & Fullerton Ave   TA1307000001  41.925602 -87.653708   \n",
       "3      Paulina St & Montrose Ave   TA1309000021  41.983593 -87.669154   \n",
       "4         State St & Randolph St   TA1305000029  41.877850 -87.624080   \n",
       "\n",
       "     end_lat    end_lng member_casual  \n",
       "0  42.012560 -87.674367        casual  \n",
       "1  42.012560 -87.674367        casual  \n",
       "2  41.925330 -87.665800        member  \n",
       "3  41.961507 -87.671387        casual  \n",
       "4  41.884621 -87.627834        member  "
      ]
     },
     "execution_count": 5,
     "metadata": {},
     "output_type": "execute_result"
    }
   ],
   "source": [
    "df.head()"
   ]
  },
  {
   "cell_type": "code",
   "execution_count": 6,
   "metadata": {},
   "outputs": [],
   "source": [
    "df.drop(['end_lat', 'end_lng', 'start_lat', 'start_lng','start_station_name','end_station_name'], axis=1, inplace=True)"
   ]
  },
  {
   "cell_type": "code",
   "execution_count": 7,
   "metadata": {},
   "outputs": [],
   "source": [
    "#convert started_at and ended_at columns to datetime types\n",
    "df['started_at'] = pd.to_datetime(df['started_at'])\n",
    "df['ended_at'] = pd.to_datetime(df['ended_at'])"
   ]
  },
  {
   "cell_type": "code",
   "execution_count": 8,
   "metadata": {},
   "outputs": [],
   "source": [
    "#calculate the ride_length and create a new column for it\n",
    "df['ride_duration'] = df['ended_at'] - df['started_at']"
   ]
  },
  {
   "cell_type": "code",
   "execution_count": 9,
   "metadata": {},
   "outputs": [],
   "source": [
    "#split the started_at column to have date and time separately\n",
    "#convert it to string type first\n",
    "df['started_at'] = df['started_at'].astype(str)\n",
    "#create two new columns \n",
    "df[['start_date', 'start_time']] = df['started_at'].str.split(' ', n=1, expand=True)"
   ]
  },
  {
   "cell_type": "code",
   "execution_count": 10,
   "metadata": {},
   "outputs": [],
   "source": [
    "df.rename(columns={'member_casual':'user_type', 'rideable_type':'bike_type'}, inplace=True)"
   ]
  },
  {
   "cell_type": "code",
   "execution_count": 11,
   "metadata": {},
   "outputs": [],
   "source": [
    "#convert these columns back to datetime type\n",
    "df['start_date'] = pd.to_datetime(df['start_date'])\n",
    "df['start_time'] = pd.to_datetime(df['start_time'])"
   ]
  },
  {
   "cell_type": "code",
   "execution_count": 12,
   "metadata": {},
   "outputs": [],
   "source": [
    "df.drop(['started_at','ended_at'], axis=1, inplace=True)"
   ]
  },
  {
   "cell_type": "code",
   "execution_count": 13,
   "metadata": {},
   "outputs": [
    {
     "name": "stdout",
     "output_type": "stream",
     "text": [
      "<class 'pandas.core.frame.DataFrame'>\n",
      "Int64Index: 5901463 entries, 0 to 247539\n",
      "Data columns (total 8 columns):\n",
      " #   Column            Dtype          \n",
      "---  ------            -----          \n",
      " 0   ride_id           object         \n",
      " 1   bike_type         object         \n",
      " 2   start_station_id  object         \n",
      " 3   end_station_id    object         \n",
      " 4   user_type         object         \n",
      " 5   ride_duration     timedelta64[ns]\n",
      " 6   start_date        datetime64[ns] \n",
      " 7   start_time        datetime64[ns] \n",
      "dtypes: datetime64[ns](2), object(5), timedelta64[ns](1)\n",
      "memory usage: 405.2+ MB\n"
     ]
    }
   ],
   "source": [
    "df.info()"
   ]
  },
  {
   "cell_type": "code",
   "execution_count": 14,
   "metadata": {},
   "outputs": [
    {
     "data": {
      "text/html": [
       "<div>\n",
       "<style scoped>\n",
       "    .dataframe tbody tr th:only-of-type {\n",
       "        vertical-align: middle;\n",
       "    }\n",
       "\n",
       "    .dataframe tbody tr th {\n",
       "        vertical-align: top;\n",
       "    }\n",
       "\n",
       "    .dataframe thead th {\n",
       "        text-align: right;\n",
       "    }\n",
       "</style>\n",
       "<table border=\"1\" class=\"dataframe\">\n",
       "  <thead>\n",
       "    <tr style=\"text-align: right;\">\n",
       "      <th></th>\n",
       "      <th>ride_duration</th>\n",
       "    </tr>\n",
       "  </thead>\n",
       "  <tbody>\n",
       "    <tr>\n",
       "      <th>count</th>\n",
       "      <td>5901463</td>\n",
       "    </tr>\n",
       "    <tr>\n",
       "      <th>mean</th>\n",
       "      <td>0 days 00:19:53.376440</td>\n",
       "    </tr>\n",
       "    <tr>\n",
       "      <th>std</th>\n",
       "      <td>0 days 02:27:59.109436</td>\n",
       "    </tr>\n",
       "    <tr>\n",
       "      <th>min</th>\n",
       "      <td>-1 days +21:42:35</td>\n",
       "    </tr>\n",
       "    <tr>\n",
       "      <th>25%</th>\n",
       "      <td>0 days 00:06:10</td>\n",
       "    </tr>\n",
       "    <tr>\n",
       "      <th>50%</th>\n",
       "      <td>0 days 00:10:57</td>\n",
       "    </tr>\n",
       "    <tr>\n",
       "      <th>75%</th>\n",
       "      <td>0 days 00:19:49</td>\n",
       "    </tr>\n",
       "    <tr>\n",
       "      <th>max</th>\n",
       "      <td>28 days 21:49:10</td>\n",
       "    </tr>\n",
       "  </tbody>\n",
       "</table>\n",
       "</div>"
      ],
      "text/plain": [
       "                ride_duration\n",
       "count                 5901463\n",
       "mean   0 days 00:19:53.376440\n",
       "std    0 days 02:27:59.109436\n",
       "min         -1 days +21:42:35\n",
       "25%           0 days 00:06:10\n",
       "50%           0 days 00:10:57\n",
       "75%           0 days 00:19:49\n",
       "max          28 days 21:49:10"
      ]
     },
     "execution_count": 14,
     "metadata": {},
     "output_type": "execute_result"
    }
   ],
   "source": [
    "df.describe() #shows negative min value for ridelength which violates data constraints"
   ]
  },
  {
   "cell_type": "code",
   "execution_count": 15,
   "metadata": {},
   "outputs": [],
   "source": [
    "df = df[df['ride_duration'] > pd.Timedelta(0)]#drops the rows with negative ride_length, pd.Timedelta to compare datetime type\n",
    "# keep the rows with positive ride_length"
   ]
  },
  {
   "cell_type": "code",
   "execution_count": 16,
   "metadata": {},
   "outputs": [
    {
     "data": {
      "text/html": [
       "<div>\n",
       "<style scoped>\n",
       "    .dataframe tbody tr th:only-of-type {\n",
       "        vertical-align: middle;\n",
       "    }\n",
       "\n",
       "    .dataframe tbody tr th {\n",
       "        vertical-align: top;\n",
       "    }\n",
       "\n",
       "    .dataframe thead th {\n",
       "        text-align: right;\n",
       "    }\n",
       "</style>\n",
       "<table border=\"1\" class=\"dataframe\">\n",
       "  <thead>\n",
       "    <tr style=\"text-align: right;\">\n",
       "      <th></th>\n",
       "      <th>ride_duration</th>\n",
       "    </tr>\n",
       "  </thead>\n",
       "  <tbody>\n",
       "    <tr>\n",
       "      <th>count</th>\n",
       "      <td>5900827</td>\n",
       "    </tr>\n",
       "    <tr>\n",
       "      <th>mean</th>\n",
       "      <td>0 days 00:19:53.539191</td>\n",
       "    </tr>\n",
       "    <tr>\n",
       "      <th>std</th>\n",
       "      <td>0 days 02:27:59.567066</td>\n",
       "    </tr>\n",
       "    <tr>\n",
       "      <th>min</th>\n",
       "      <td>0 days 00:00:01</td>\n",
       "    </tr>\n",
       "    <tr>\n",
       "      <th>25%</th>\n",
       "      <td>0 days 00:06:10</td>\n",
       "    </tr>\n",
       "    <tr>\n",
       "      <th>50%</th>\n",
       "      <td>0 days 00:10:57</td>\n",
       "    </tr>\n",
       "    <tr>\n",
       "      <th>75%</th>\n",
       "      <td>0 days 00:19:49</td>\n",
       "    </tr>\n",
       "    <tr>\n",
       "      <th>max</th>\n",
       "      <td>28 days 21:49:10</td>\n",
       "    </tr>\n",
       "  </tbody>\n",
       "</table>\n",
       "</div>"
      ],
      "text/plain": [
       "                ride_duration\n",
       "count                 5900827\n",
       "mean   0 days 00:19:53.539191\n",
       "std    0 days 02:27:59.567066\n",
       "min           0 days 00:00:01\n",
       "25%           0 days 00:06:10\n",
       "50%           0 days 00:10:57\n",
       "75%           0 days 00:19:49\n",
       "max          28 days 21:49:10"
      ]
     },
     "execution_count": 16,
     "metadata": {},
     "output_type": "execute_result"
    }
   ],
   "source": [
    "df.describe() #confirms there's no longer negative values\n",
    "#ride_duration of one second doesn't seem right"
   ]
  },
  {
   "cell_type": "code",
   "execution_count": 17,
   "metadata": {},
   "outputs": [],
   "source": [
    "df = df[df['ride_duration'] > pd.Timedelta('00:00:60')]\n",
    "#keep only rows that have ride duration of above 60 seconds"
   ]
  },
  {
   "cell_type": "code",
   "execution_count": 18,
   "metadata": {},
   "outputs": [
    {
     "data": {
      "text/plain": [
       "array(['electric_bike', 'classic_bike', 'docked_bike'], dtype=object)"
      ]
     },
     "execution_count": 18,
     "metadata": {},
     "output_type": "execute_result"
    }
   ],
   "source": [
    "df['bike_type'].unique()"
   ]
  },
  {
   "cell_type": "code",
   "execution_count": 19,
   "metadata": {},
   "outputs": [
    {
     "data": {
      "text/plain": [
       "array(['casual', 'member'], dtype=object)"
      ]
     },
     "execution_count": 19,
     "metadata": {},
     "output_type": "execute_result"
    }
   ],
   "source": [
    "df['user_type'].unique()"
   ]
  },
  {
   "cell_type": "code",
   "execution_count": 20,
   "metadata": {},
   "outputs": [
    {
     "data": {
      "text/html": [
       "<div>\n",
       "<style scoped>\n",
       "    .dataframe tbody tr th:only-of-type {\n",
       "        vertical-align: middle;\n",
       "    }\n",
       "\n",
       "    .dataframe tbody tr th {\n",
       "        vertical-align: top;\n",
       "    }\n",
       "\n",
       "    .dataframe thead th {\n",
       "        text-align: right;\n",
       "    }\n",
       "</style>\n",
       "<table border=\"1\" class=\"dataframe\">\n",
       "  <thead>\n",
       "    <tr style=\"text-align: right;\">\n",
       "      <th></th>\n",
       "      <th>ride_duration</th>\n",
       "    </tr>\n",
       "  </thead>\n",
       "  <tbody>\n",
       "    <tr>\n",
       "      <th>count</th>\n",
       "      <td>5795850</td>\n",
       "    </tr>\n",
       "    <tr>\n",
       "      <th>mean</th>\n",
       "      <td>0 days 00:20:14.710060</td>\n",
       "    </tr>\n",
       "    <tr>\n",
       "      <th>std</th>\n",
       "      <td>0 days 02:29:18.215165</td>\n",
       "    </tr>\n",
       "    <tr>\n",
       "      <th>min</th>\n",
       "      <td>0 days 00:01:01</td>\n",
       "    </tr>\n",
       "    <tr>\n",
       "      <th>25%</th>\n",
       "      <td>0 days 00:06:23</td>\n",
       "    </tr>\n",
       "    <tr>\n",
       "      <th>50%</th>\n",
       "      <td>0 days 00:11:10</td>\n",
       "    </tr>\n",
       "    <tr>\n",
       "      <th>75%</th>\n",
       "      <td>0 days 00:20:04</td>\n",
       "    </tr>\n",
       "    <tr>\n",
       "      <th>max</th>\n",
       "      <td>28 days 21:49:10</td>\n",
       "    </tr>\n",
       "  </tbody>\n",
       "</table>\n",
       "</div>"
      ],
      "text/plain": [
       "                ride_duration\n",
       "count                 5795850\n",
       "mean   0 days 00:20:14.710060\n",
       "std    0 days 02:29:18.215165\n",
       "min           0 days 00:01:01\n",
       "25%           0 days 00:06:23\n",
       "50%           0 days 00:11:10\n",
       "75%           0 days 00:20:04\n",
       "max          28 days 21:49:10"
      ]
     },
     "execution_count": 20,
     "metadata": {},
     "output_type": "execute_result"
    }
   ],
   "source": [
    "df.describe()"
   ]
  },
  {
   "cell_type": "code",
   "execution_count": 21,
   "metadata": {},
   "outputs": [
    {
     "data": {
      "text/plain": [
       "ride_id                  0\n",
       "bike_type                0\n",
       "start_station_id    834530\n",
       "end_station_id      886025\n",
       "user_type                0\n",
       "ride_duration            0\n",
       "start_date               0\n",
       "start_time               0\n",
       "dtype: int64"
      ]
     },
     "execution_count": 21,
     "metadata": {},
     "output_type": "execute_result"
    }
   ],
   "source": [
    "df.isna().sum()"
   ]
  },
  {
   "cell_type": "code",
   "execution_count": 22,
   "metadata": {},
   "outputs": [],
   "source": [
    "df.dropna(inplace=True)\n",
    "#drop rows with missing values"
   ]
  },
  {
   "cell_type": "code",
   "execution_count": 23,
   "metadata": {},
   "outputs": [
    {
     "data": {
      "text/plain": [
       "False"
      ]
     },
     "execution_count": 23,
     "metadata": {},
     "output_type": "execute_result"
    }
   ],
   "source": [
    "df.duplicated().any()"
   ]
  },
  {
   "cell_type": "code",
   "execution_count": 24,
   "metadata": {},
   "outputs": [
    {
     "data": {
      "text/plain": [
       "ride_id             False\n",
       "bike_type           False\n",
       "start_station_id    False\n",
       "end_station_id      False\n",
       "user_type           False\n",
       "ride_duration       False\n",
       "start_date          False\n",
       "start_time          False\n",
       "dtype: bool"
      ]
     },
     "execution_count": 24,
     "metadata": {},
     "output_type": "execute_result"
    }
   ],
   "source": [
    "df.isnull().any() #no missing or duplicate values"
   ]
  },
  {
   "cell_type": "code",
   "execution_count": 25,
   "metadata": {},
   "outputs": [],
   "source": [
    "#create a new column for months and year from start_date\n",
    "df['month'] = pd.DatetimeIndex(df['start_date']).month\n",
    "df['year'] = pd.DatetimeIndex(df['start_date']).year"
   ]
  },
  {
   "cell_type": "code",
   "execution_count": 26,
   "metadata": {},
   "outputs": [
    {
     "data": {
      "text/plain": [
       "array([3, 0, 1, 6, 5, 4, 2], dtype=int64)"
      ]
     },
     "execution_count": 26,
     "metadata": {},
     "output_type": "execute_result"
    }
   ],
   "source": [
    "#new column that contains the day of the week using the weekday function\n",
    "df['day_of_week'] = df['start_date'].apply(lambda x:x.weekday())\n",
    "df['day_of_week'].unique()"
   ]
  },
  {
   "cell_type": "code",
   "execution_count": 27,
   "metadata": {},
   "outputs": [],
   "source": [
    "#assign day_names to the numbers using a dictionary\n",
    "names = {0:'Mon', 1:'Tue', 2:'Wed', 3:'Thu', 4:'Fri', 5:'Sat', 6:'Sun'}\n",
    "df['day_name'] = df['day_of_week'].apply(lambda n:names[n])"
   ]
  },
  {
   "cell_type": "code",
   "execution_count": 28,
   "metadata": {},
   "outputs": [
    {
     "data": {
      "text/html": [
       "<div>\n",
       "<style scoped>\n",
       "    .dataframe tbody tr th:only-of-type {\n",
       "        vertical-align: middle;\n",
       "    }\n",
       "\n",
       "    .dataframe tbody tr th {\n",
       "        vertical-align: top;\n",
       "    }\n",
       "\n",
       "    .dataframe thead th {\n",
       "        text-align: right;\n",
       "    }\n",
       "</style>\n",
       "<table border=\"1\" class=\"dataframe\">\n",
       "  <thead>\n",
       "    <tr style=\"text-align: right;\">\n",
       "      <th></th>\n",
       "      <th>ride_duration</th>\n",
       "      <th>month</th>\n",
       "      <th>year</th>\n",
       "      <th>day_of_week</th>\n",
       "    </tr>\n",
       "  </thead>\n",
       "  <tbody>\n",
       "    <tr>\n",
       "      <th>count</th>\n",
       "      <td>4559381</td>\n",
       "      <td>4.559381e+06</td>\n",
       "      <td>4.559381e+06</td>\n",
       "      <td>4.559381e+06</td>\n",
       "    </tr>\n",
       "    <tr>\n",
       "      <th>mean</th>\n",
       "      <td>0 days 00:18:46.913522</td>\n",
       "      <td>7.223281e+00</td>\n",
       "      <td>2.021523e+03</td>\n",
       "      <td>3.132383e+00</td>\n",
       "    </tr>\n",
       "    <tr>\n",
       "      <th>std</th>\n",
       "      <td>0 days 01:22:36.146312</td>\n",
       "      <td>2.520393e+00</td>\n",
       "      <td>4.994905e-01</td>\n",
       "      <td>2.006136e+00</td>\n",
       "    </tr>\n",
       "    <tr>\n",
       "      <th>min</th>\n",
       "      <td>0 days 00:01:01</td>\n",
       "      <td>1.000000e+00</td>\n",
       "      <td>2.021000e+03</td>\n",
       "      <td>0.000000e+00</td>\n",
       "    </tr>\n",
       "    <tr>\n",
       "      <th>25%</th>\n",
       "      <td>0 days 00:06:35</td>\n",
       "      <td>5.000000e+00</td>\n",
       "      <td>2.021000e+03</td>\n",
       "      <td>1.000000e+00</td>\n",
       "    </tr>\n",
       "    <tr>\n",
       "      <th>50%</th>\n",
       "      <td>0 days 00:11:24</td>\n",
       "      <td>7.000000e+00</td>\n",
       "      <td>2.022000e+03</td>\n",
       "      <td>3.000000e+00</td>\n",
       "    </tr>\n",
       "    <tr>\n",
       "      <th>75%</th>\n",
       "      <td>0 days 00:20:24</td>\n",
       "      <td>9.000000e+00</td>\n",
       "      <td>2.022000e+03</td>\n",
       "      <td>5.000000e+00</td>\n",
       "    </tr>\n",
       "    <tr>\n",
       "      <th>max</th>\n",
       "      <td>28 days 21:49:10</td>\n",
       "      <td>1.200000e+01</td>\n",
       "      <td>2.022000e+03</td>\n",
       "      <td>6.000000e+00</td>\n",
       "    </tr>\n",
       "  </tbody>\n",
       "</table>\n",
       "</div>"
      ],
      "text/plain": [
       "                ride_duration         month          year   day_of_week\n",
       "count                 4559381  4.559381e+06  4.559381e+06  4.559381e+06\n",
       "mean   0 days 00:18:46.913522  7.223281e+00  2.021523e+03  3.132383e+00\n",
       "std    0 days 01:22:36.146312  2.520393e+00  4.994905e-01  2.006136e+00\n",
       "min           0 days 00:01:01  1.000000e+00  2.021000e+03  0.000000e+00\n",
       "25%           0 days 00:06:35  5.000000e+00  2.021000e+03  1.000000e+00\n",
       "50%           0 days 00:11:24  7.000000e+00  2.022000e+03  3.000000e+00\n",
       "75%           0 days 00:20:24  9.000000e+00  2.022000e+03  5.000000e+00\n",
       "max          28 days 21:49:10  1.200000e+01  2.022000e+03  6.000000e+00"
      ]
     },
     "execution_count": 28,
     "metadata": {},
     "output_type": "execute_result"
    }
   ],
   "source": [
    "df.describe()"
   ]
  },
  {
   "cell_type": "code",
   "execution_count": 29,
   "metadata": {},
   "outputs": [
    {
     "data": {
      "text/plain": [
       "0    5\n",
       "dtype: int64"
      ]
     },
     "execution_count": 29,
     "metadata": {},
     "output_type": "execute_result"
    }
   ],
   "source": [
    "df['day_of_week'].mode() #the day with the most frequent ride is Saturday"
   ]
  },
  {
   "cell_type": "code",
   "execution_count": 30,
   "metadata": {},
   "outputs": [],
   "source": [
    "df['ride_duration'] = df['ride_duration'].dt.total_seconds()\n",
    "#converts the timedelta to seconds\n",
    "df['ride_duration'] = df['ride_duration'] / 60\n",
    "#converts the timedelta to minutes"
   ]
  },
  {
   "cell_type": "code",
   "execution_count": 31,
   "metadata": {},
   "outputs": [
    {
     "data": {
      "text/plain": [
       "(4559381, 12)"
      ]
     },
     "execution_count": 31,
     "metadata": {},
     "output_type": "execute_result"
    }
   ],
   "source": [
    "df.shape"
   ]
  },
  {
   "cell_type": "code",
   "execution_count": 32,
   "metadata": {},
   "outputs": [
    {
     "data": {
      "text/plain": [
       "ride_id                     object\n",
       "bike_type                   object\n",
       "start_station_id            object\n",
       "end_station_id              object\n",
       "user_type                   object\n",
       "ride_duration              float64\n",
       "start_date          datetime64[ns]\n",
       "start_time          datetime64[ns]\n",
       "month                        int64\n",
       "year                         int64\n",
       "day_of_week                  int64\n",
       "day_name                    object\n",
       "dtype: object"
      ]
     },
     "execution_count": 32,
     "metadata": {},
     "output_type": "execute_result"
    }
   ],
   "source": [
    "df.dtypes"
   ]
  },
  {
   "cell_type": "code",
   "execution_count": 33,
   "metadata": {},
   "outputs": [],
   "source": [
    "#sort the data by ride_length\n",
    "df.sort_values('ride_duration', axis=0, ascending=True, inplace=True)"
   ]
  },
  {
   "cell_type": "code",
   "execution_count": 34,
   "metadata": {},
   "outputs": [
    {
     "data": {
      "text/plain": [
       "member    2634378\n",
       "casual    1925003\n",
       "Name: user_type, dtype: int64"
      ]
     },
     "execution_count": 34,
     "metadata": {},
     "output_type": "execute_result"
    }
   ],
   "source": [
    "#EXPLORATORY ANALYSIS\n",
    "#count of casual users and members\n",
    "user_count = df['user_type'].value_counts()\n",
    "user_count #there are more subscribers than casual riders"
   ]
  },
  {
   "cell_type": "code",
   "execution_count": 35,
   "metadata": {},
   "outputs": [
    {
     "data": {
      "text/plain": [
       "<matplotlib.legend.Legend at 0x1ac471e2248>"
      ]
     },
     "execution_count": 35,
     "metadata": {},
     "output_type": "execute_result"
    },
    {
     "data": {
      "image/png": "[encoded data removed]",
      "text/plain": [
       "<Figure size 432x288 with 1 Axes>"
      ]
     },
     "metadata": {},
     "output_type": "display_data"
    }
   ],
   "source": [
    "#pie chart to visualize the proportion of the user_type\n",
    "types=['members','casual']\n",
    "plt.pie(user_count, autopct='%1.1f%%', labels=types)\n",
    "plt.title('Percentage of each user type')\n",
    "plt.legend(['Members','Casual'], loc='upper left')"
   ]
  },
  {
   "cell_type": "code",
   "execution_count": 36,
   "metadata": {},
   "outputs": [],
   "source": [
    "#ANALYSIS BY USER TYPES\n",
    "#subgroup the users into separate dataframes\n",
    "members = df[df['user_type'] == 'member']\n",
    "casuals = df[df['user_type'] == 'casual']"
   ]
  },
  {
   "cell_type": "code",
   "execution_count": 37,
   "metadata": {},
   "outputs": [
    {
     "data": {
      "text/plain": [
       "12.811131678899983"
      ]
     },
     "execution_count": 37,
     "metadata": {},
     "output_type": "execute_result"
    }
   ],
   "source": [
    "#average ride_length for each category\n",
    "avg_ridelen_mem = members['ride_duration'].mean()\n",
    "avg_ridelen_mem"
   ]
  },
  {
   "cell_type": "code",
   "execution_count": 38,
   "metadata": {},
   "outputs": [
    {
     "data": {
      "text/plain": [
       "26.95291292186624"
      ]
     },
     "execution_count": 38,
     "metadata": {},
     "output_type": "execute_result"
    }
   ],
   "source": [
    "avg_ridelen_cas = casuals['ride_duration'].mean()\n",
    "avg_ridelen_cas"
   ]
  },
  {
   "cell_type": "code",
   "execution_count": 39,
   "metadata": {},
   "outputs": [],
   "source": [
    "#average ride duration for member and casual riders by day of week\n",
    "table = df.pivot_table(values='ride_duration', index='day_of_week', columns='user_type')"
   ]
  },
  {
   "cell_type": "code",
   "execution_count": 40,
   "metadata": {},
   "outputs": [
    {
     "name": "stdout",
     "output_type": "stream",
     "text": [
      "user_type       casual     member\n",
      "day_of_week                      \n",
      "0            28.009110  12.414614\n",
      "1            23.488891  11.939438\n",
      "2            23.086425  12.079342\n",
      "3            23.695949  12.256004\n",
      "4            24.959385  12.460055\n",
      "5            29.402892  14.480261\n",
      "6            31.013723  14.605676\n"
     ]
    }
   ],
   "source": [
    "print(table)"
   ]
  },
  {
   "cell_type": "code",
   "execution_count": 41,
   "metadata": {},
   "outputs": [
    {
     "data": {
      "text/plain": [
       "([<matplotlib.axis.XTick at 0x1abcec1c088>,\n",
       "  <matplotlib.axis.XTick at 0x1abcfa64348>,\n",
       "  <matplotlib.axis.XTick at 0x1abcfa61ec8>,\n",
       "  <matplotlib.axis.XTick at 0x1abcfaa0608>,\n",
       "  <matplotlib.axis.XTick at 0x1abcfaa4148>,\n",
       "  <matplotlib.axis.XTick at 0x1abcfaa4b48>,\n",
       "  <matplotlib.axis.XTick at 0x1abcfaa8688>],\n",
       " <a list of 7 Text xticklabel objects>)"
      ]
     },
     "execution_count": 41,
     "metadata": {},
     "output_type": "execute_result"
    },
    {
     "data": {
      "image/png": "[encoded data removed]",
      "text/plain": [
       "<Figure size 432x288 with 1 Axes>"
      ]
     },
     "metadata": {
      "needs_background": "light"
     },
     "output_type": "display_data"
    }
   ],
   "source": [
    "plt.plot(table)\n",
    "plt.title('Average Ride duration per day')\n",
    "plt.legend(['Members', 'Casuals'], loc='center right')\n",
    "labels = ['Mon', 'Tue', 'Wed', 'Thur', 'Fri', 'Sat', 'Sun']\n",
    "plt.xticks(table.index, labels)"
   ]
  },
  {
   "cell_type": "code",
   "execution_count": 42,
   "metadata": {},
   "outputs": [
    {
     "name": "stdout",
     "output_type": "stream",
     "text": [
      "user_type    casual  member\n",
      "day_of_week                \n",
      "0            226438  371256\n",
      "1            202024  413159\n",
      "2            208081  411937\n",
      "3            234669  407722\n",
      "4            260541  358874\n",
      "5            417386  349020\n",
      "6            375864  322410\n"
     ]
    }
   ],
   "source": [
    "#pivot table for the count of rides for each group per day\n",
    "ridecount_table = df.pivot_table(values='ride_id', index='day_of_week', columns='user_type', aggfunc={'ride_id':'count'})\n",
    "print(ridecount_table)"
   ]
  },
  {
   "cell_type": "code",
   "execution_count": 43,
   "metadata": {},
   "outputs": [
    {
     "data": {
      "image/png": "[encoded data removed]",
      "text/plain": [
       "<Figure size 432x288 with 1 Axes>"
      ]
     },
     "metadata": {
      "needs_background": "light"
     },
     "output_type": "display_data"
    }
   ],
   "source": [
    "plt.plot(ridecount_table)\n",
    "plt.title('Number of Rides per day')\n",
    "plt.legend(['Members', 'Casual'], loc='lower right')\n",
    "labels = ['Mon', 'Tue', 'Wed', 'Thu', 'Fri', 'Sat', 'Sun']\n",
    "plt.xticks(ridecount_table.index, labels)\n",
    "plt.rcParams['figure.figsize'] = [7,5] #increases the size of the inline plot"
   ]
  },
  {
   "cell_type": "code",
   "execution_count": 44,
   "metadata": {},
   "outputs": [
    {
     "name": "stdout",
     "output_type": "stream",
     "text": [
      "0    1\n",
      "dtype: int64\n",
      "0    5\n",
      "dtype: int64\n"
     ]
    }
   ],
   "source": [
    "#most frequent ride day for each user type\n",
    "mode_day_mem = members['day_of_week'].mode()\n",
    "mode_day_cas = casuals['day_of_week'].mode()\n",
    "print(mode_day_mem) #Tuesday records the highest number of rides for members)\n",
    "print(mode_day_cas) #Saturday records the highest number of rides for members"
   ]
  },
  {
   "cell_type": "code",
   "execution_count": null,
   "metadata": {},
   "outputs": [],
   "source": [
    "ridetype_table = df.pivot_table(values='ride_id', index='month', aggfunc={'ride_id':'count'})\n",
    "print(ridetype_table) \n",
    "#from August 2021 to July 2022, need a custom sort"
   ]
  },
  {
   "cell_type": "code",
   "execution_count": 46,
   "metadata": {},
   "outputs": [
    {
     "name": "stdout",
     "output_type": "stream",
     "text": [
      "user_type\n",
      "casual    1925003\n",
      "Name: ride_id, dtype: int64\n",
      "user_type\n",
      "member    2634378\n",
      "Name: ride_id, dtype: int64\n"
     ]
    }
   ],
   "source": [
    "#number of rides for each user type by rideable_type\n",
    "ridecount_ptype_mem = members.groupby('user_type')['ride_id'].count()\n",
    "ridecount_ptype_cas = casuals.groupby('user_type')['ride_id'].count()\n",
    "print(ridecount_ptype_cas) #classic bike is also the most common for the casual riders\n",
    "print(ridecount_ptype_mem) #members ride the classic bike more than the elctric bike with no rides for the docked type"
   ]
  },
  {
   "cell_type": "code",
   "execution_count": 47,
   "metadata": {},
   "outputs": [
    {
     "data": {
      "text/plain": [
       "<matplotlib.axes._subplots.AxesSubplot at 0x1abd24e70c8>"
      ]
     },
     "execution_count": 47,
     "metadata": {},
     "output_type": "execute_result"
    },
    {
     "data": {
      "image/png": "[encoded data removed]",
      "text/plain": [
       "<Figure size 504x360 with 1 Axes>"
      ]
     },
     "metadata": {
      "needs_background": "light"
     },
     "output_type": "display_data"
    }
   ],
   "source": [
    "#categorical visualization shows the number of users for each user type, grouped by the bike type\n",
    "sns.countplot(x='user_type', hue='bike_type', data=df)"
   ]
  },
  {
   "cell_type": "code",
   "execution_count": 48,
   "metadata": {},
   "outputs": [],
   "source": [
    "df['hour'] = df['start_time'].dt.hour\n",
    "#to extract the hours the rides started from the time"
   ]
  },
  {
   "cell_type": "code",
   "execution_count": 49,
   "metadata": {},
   "outputs": [
    {
     "data": {
      "text/plain": [
       "ride_id                     object\n",
       "bike_type                   object\n",
       "start_station_id            object\n",
       "end_station_id              object\n",
       "user_type                   object\n",
       "ride_duration              float64\n",
       "start_date          datetime64[ns]\n",
       "start_time          datetime64[ns]\n",
       "month                        int64\n",
       "year                         int64\n",
       "day_of_week                  int64\n",
       "day_name                    object\n",
       "hour                         int64\n",
       "dtype: object"
      ]
     },
     "execution_count": 49,
     "metadata": {},
     "output_type": "execute_result"
    }
   ],
   "source": [
    "df.dtypes \n",
    "#to review columns that are no longer useful"
   ]
  },
  {
   "cell_type": "code",
   "execution_count": 50,
   "metadata": {},
   "outputs": [],
   "source": [
    "df.drop(['start_date','start_time','end_station_id'], axis=1, inplace=True)"
   ]
  },
  {
   "cell_type": "code",
   "execution_count": 51,
   "metadata": {},
   "outputs": [
    {
     "data": {
      "text/plain": [
       "152632    Aug\n",
       "700478    Jun\n",
       "148878    Nov\n",
       "259790    Jun\n",
       "119728    Aug\n",
       "Name: month, dtype: object"
      ]
     },
     "execution_count": 51,
     "metadata": {},
     "output_type": "execute_result"
    }
   ],
   "source": [
    "names = {1:'Jan',2:'Feb',3:'Mar',4:'Apr',5:'May',6:'Jun',7:'Jul',8:'Aug',9:'Sep',10:'Oct',11:'Nov',12:'Dec'}\n",
    "df['month'] = df['month'].apply(lambda n: names[n])\n",
    "df['month'].head()"
   ]
  },
  {
   "cell_type": "code",
   "execution_count": 52,
   "metadata": {},
   "outputs": [],
   "source": [
    "df.drop(['day_of_week'], axis=1, inplace=True)"
   ]
  },
  {
   "cell_type": "code",
   "execution_count": 53,
   "metadata": {},
   "outputs": [
    {
     "name": "stdout",
     "output_type": "stream",
     "text": [
      "<class 'pandas.core.frame.DataFrame'>\n",
      "Int64Index: 4559381 entries, 152632 to 192711\n",
      "Data columns (total 9 columns):\n",
      " #   Column            Dtype  \n",
      "---  ------            -----  \n",
      " 0   ride_id           object \n",
      " 1   bike_type         object \n",
      " 2   start_station_id  object \n",
      " 3   user_type         object \n",
      " 4   ride_duration     float64\n",
      " 5   month             object \n",
      " 6   year              int64  \n",
      " 7   day_name          object \n",
      " 8   hour              int64  \n",
      "dtypes: float64(1), int64(2), object(6)\n",
      "memory usage: 387.9+ MB\n"
     ]
    }
   ],
   "source": [
    "df.info()"
   ]
  },
  {
   "cell_type": "code",
   "execution_count": 54,
   "metadata": {},
   "outputs": [],
   "source": [
    "seasons = {'Jan':'Winter','Feb':'Winter','Mar':'Spring','Apr':'Spring','May':'Spring','Jun':'Summer','Jul':'Summer','Aug':'Summer','Sep':'Fall','Oct':'Fall','Nov':'Fall','Dec':'Winter'\n",
    "    }\n",
    "df['season'] = df['month'].apply(lambda s: seasons[s])"
   ]
  },
  {
   "cell_type": "code",
   "execution_count": 55,
   "metadata": {},
   "outputs": [
    {
     "data": {
      "text/html": [
       "<div>\n",
       "<style scoped>\n",
       "    .dataframe tbody tr th:only-of-type {\n",
       "        vertical-align: middle;\n",
       "    }\n",
       "\n",
       "    .dataframe tbody tr th {\n",
       "        vertical-align: top;\n",
       "    }\n",
       "\n",
       "    .dataframe thead th {\n",
       "        text-align: right;\n",
       "    }\n",
       "</style>\n",
       "<table border=\"1\" class=\"dataframe\">\n",
       "  <thead>\n",
       "    <tr style=\"text-align: right;\">\n",
       "      <th></th>\n",
       "      <th>ride_id</th>\n",
       "      <th>bike_type</th>\n",
       "      <th>start_station_id</th>\n",
       "      <th>user_type</th>\n",
       "      <th>ride_duration</th>\n",
       "      <th>month</th>\n",
       "      <th>year</th>\n",
       "      <th>day_name</th>\n",
       "      <th>hour</th>\n",
       "      <th>season</th>\n",
       "    </tr>\n",
       "  </thead>\n",
       "  <tbody>\n",
       "    <tr>\n",
       "      <th>152632</th>\n",
       "      <td>61DBC85A61582C41</td>\n",
       "      <td>electric_bike</td>\n",
       "      <td>TA1308000001</td>\n",
       "      <td>casual</td>\n",
       "      <td>1.016667</td>\n",
       "      <td>Aug</td>\n",
       "      <td>2021</td>\n",
       "      <td>Fri</td>\n",
       "      <td>22</td>\n",
       "      <td>Summer</td>\n",
       "    </tr>\n",
       "    <tr>\n",
       "      <th>700478</th>\n",
       "      <td>68428A6AD69DE0C9</td>\n",
       "      <td>classic_bike</td>\n",
       "      <td>TA1307000117</td>\n",
       "      <td>casual</td>\n",
       "      <td>1.016667</td>\n",
       "      <td>Jun</td>\n",
       "      <td>2022</td>\n",
       "      <td>Fri</td>\n",
       "      <td>12</td>\n",
       "      <td>Summer</td>\n",
       "    </tr>\n",
       "    <tr>\n",
       "      <th>148878</th>\n",
       "      <td>5CA46E221B765C22</td>\n",
       "      <td>electric_bike</td>\n",
       "      <td>TA1307000142</td>\n",
       "      <td>member</td>\n",
       "      <td>1.016667</td>\n",
       "      <td>Nov</td>\n",
       "      <td>2021</td>\n",
       "      <td>Sun</td>\n",
       "      <td>22</td>\n",
       "      <td>Fall</td>\n",
       "    </tr>\n",
       "    <tr>\n",
       "      <th>259790</th>\n",
       "      <td>7F66B9FCC580E8B0</td>\n",
       "      <td>classic_bike</td>\n",
       "      <td>SL-005</td>\n",
       "      <td>member</td>\n",
       "      <td>1.016667</td>\n",
       "      <td>Jun</td>\n",
       "      <td>2022</td>\n",
       "      <td>Thu</td>\n",
       "      <td>16</td>\n",
       "      <td>Summer</td>\n",
       "    </tr>\n",
       "    <tr>\n",
       "      <th>119728</th>\n",
       "      <td>2B1B00FBAD563240</td>\n",
       "      <td>classic_bike</td>\n",
       "      <td>15575</td>\n",
       "      <td>member</td>\n",
       "      <td>1.016667</td>\n",
       "      <td>Aug</td>\n",
       "      <td>2021</td>\n",
       "      <td>Fri</td>\n",
       "      <td>12</td>\n",
       "      <td>Summer</td>\n",
       "    </tr>\n",
       "  </tbody>\n",
       "</table>\n",
       "</div>"
      ],
      "text/plain": [
       "                 ride_id      bike_type start_station_id user_type  \\\n",
       "152632  61DBC85A61582C41  electric_bike     TA1308000001    casual   \n",
       "700478  68428A6AD69DE0C9   classic_bike     TA1307000117    casual   \n",
       "148878  5CA46E221B765C22  electric_bike     TA1307000142    member   \n",
       "259790  7F66B9FCC580E8B0   classic_bike           SL-005    member   \n",
       "119728  2B1B00FBAD563240   classic_bike            15575    member   \n",
       "\n",
       "        ride_duration month  year day_name  hour  season  \n",
       "152632       1.016667   Aug  2021      Fri    22  Summer  \n",
       "700478       1.016667   Jun  2022      Fri    12  Summer  \n",
       "148878       1.016667   Nov  2021      Sun    22    Fall  \n",
       "259790       1.016667   Jun  2022      Thu    16  Summer  \n",
       "119728       1.016667   Aug  2021      Fri    12  Summer  "
      ]
     },
     "execution_count": 55,
     "metadata": {},
     "output_type": "execute_result"
    }
   ],
   "source": [
    "df.head()"
   ]
  },
  {
   "cell_type": "code",
   "execution_count": 56,
   "metadata": {},
   "outputs": [
    {
     "data": {
      "text/html": [
       "<div>\n",
       "<style scoped>\n",
       "    .dataframe tbody tr th:only-of-type {\n",
       "        vertical-align: middle;\n",
       "    }\n",
       "\n",
       "    .dataframe tbody tr th {\n",
       "        vertical-align: top;\n",
       "    }\n",
       "\n",
       "    .dataframe thead th {\n",
       "        text-align: right;\n",
       "    }\n",
       "</style>\n",
       "<table border=\"1\" class=\"dataframe\">\n",
       "  <thead>\n",
       "    <tr style=\"text-align: right;\">\n",
       "      <th></th>\n",
       "      <th>ride_duration</th>\n",
       "      <th>year</th>\n",
       "      <th>hour</th>\n",
       "    </tr>\n",
       "  </thead>\n",
       "  <tbody>\n",
       "    <tr>\n",
       "      <th>count</th>\n",
       "      <td>4.559381e+06</td>\n",
       "      <td>4.559381e+06</td>\n",
       "      <td>4.559381e+06</td>\n",
       "    </tr>\n",
       "    <tr>\n",
       "      <th>mean</th>\n",
       "      <td>1.878189e+01</td>\n",
       "      <td>2.021523e+03</td>\n",
       "      <td>1.420495e+01</td>\n",
       "    </tr>\n",
       "    <tr>\n",
       "      <th>std</th>\n",
       "      <td>8.260244e+01</td>\n",
       "      <td>4.994905e-01</td>\n",
       "      <td>4.984825e+00</td>\n",
       "    </tr>\n",
       "    <tr>\n",
       "      <th>min</th>\n",
       "      <td>1.016667e+00</td>\n",
       "      <td>2.021000e+03</td>\n",
       "      <td>0.000000e+00</td>\n",
       "    </tr>\n",
       "    <tr>\n",
       "      <th>25%</th>\n",
       "      <td>6.583333e+00</td>\n",
       "      <td>2.021000e+03</td>\n",
       "      <td>1.100000e+01</td>\n",
       "    </tr>\n",
       "    <tr>\n",
       "      <th>50%</th>\n",
       "      <td>1.140000e+01</td>\n",
       "      <td>2.022000e+03</td>\n",
       "      <td>1.500000e+01</td>\n",
       "    </tr>\n",
       "    <tr>\n",
       "      <th>75%</th>\n",
       "      <td>2.040000e+01</td>\n",
       "      <td>2.022000e+03</td>\n",
       "      <td>1.800000e+01</td>\n",
       "    </tr>\n",
       "    <tr>\n",
       "      <th>max</th>\n",
       "      <td>4.162917e+04</td>\n",
       "      <td>2.022000e+03</td>\n",
       "      <td>2.300000e+01</td>\n",
       "    </tr>\n",
       "  </tbody>\n",
       "</table>\n",
       "</div>"
      ],
      "text/plain": [
       "       ride_duration          year          hour\n",
       "count   4.559381e+06  4.559381e+06  4.559381e+06\n",
       "mean    1.878189e+01  2.021523e+03  1.420495e+01\n",
       "std     8.260244e+01  4.994905e-01  4.984825e+00\n",
       "min     1.016667e+00  2.021000e+03  0.000000e+00\n",
       "25%     6.583333e+00  2.021000e+03  1.100000e+01\n",
       "50%     1.140000e+01  2.022000e+03  1.500000e+01\n",
       "75%     2.040000e+01  2.022000e+03  1.800000e+01\n",
       "max     4.162917e+04  2.022000e+03  2.300000e+01"
      ]
     },
     "execution_count": 56,
     "metadata": {},
     "output_type": "execute_result"
    }
   ],
   "source": [
    "df.describe()"
   ]
  },
  {
   "cell_type": "code",
   "execution_count": 57,
   "metadata": {},
   "outputs": [],
   "source": [
    "df.to_csv('C:\\CSV_FILES\\cyclistic.csv', header=True)"
   ]
  },
  {
   "cell_type": "markdown",
   "metadata": {},
   "source": []
  }
 ],
 "metadata": {
  "kernelspec": {
   "display_name": "Python 3",
   "language": "python",
   "name": "python3"
  },
  "language_info": {
   "codemirror_mode": {
    "name": "ipython",
    "version": 3
   },
   "file_extension": ".py",
   "mimetype": "text/x-python",
   "name": "python",
   "nbconvert_exporter": "python",
   "pygments_lexer": "ipython3",
   "version": "3.7.6"
  }
 },
 "nbformat": 4,
 "nbformat_minor": 4
}
